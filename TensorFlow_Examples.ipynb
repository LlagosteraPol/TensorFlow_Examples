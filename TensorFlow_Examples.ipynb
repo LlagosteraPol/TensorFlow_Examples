{
 "cells": [
  {
   "cell_type": "code",
   "execution_count": 1,
   "id": "e0ca32b7",
   "metadata": {},
   "outputs": [
    {
     "name": "stdout",
     "output_type": "stream",
     "text": [
      "Your TensorFlow version: 2.9.1\n"
     ]
    }
   ],
   "source": [
    "import tensorflow as tf\n",
    "print(('Your TensorFlow version: {0}').format(tf.__version__))"
   ]
  },
  {
   "cell_type": "code",
   "execution_count": 2,
   "id": "79409ecd",
   "metadata": {},
   "outputs": [],
   "source": [
    "# Create a constant tensor A\n",
    "A = tf.constant([[4, 3],\n",
    "                 [6, 1]])"
   ]
  },
  {
   "cell_type": "code",
   "execution_count": 3,
   "id": "fd3e20db",
   "metadata": {},
   "outputs": [
    {
     "name": "stdout",
     "output_type": "stream",
     "text": [
      "<tf.Variable 'Variable:0' shape=(2, 2) dtype=int32, numpy=\n",
      "array([[3, 1],\n",
      "       [5, 2]])>\n"
     ]
    },
    {
     "data": {
      "text/plain": [
       "<tf.Tensor: shape=(2, 2), dtype=int32, numpy=\n",
       "array([[7, 8],\n",
       "       [4, 5]])>"
      ]
     },
     "execution_count": 3,
     "metadata": {},
     "output_type": "execute_result"
    }
   ],
   "source": [
    "# Create a Variable tensor A\n",
    "V = tf.Variable([[3, 1],\n",
    "                 [5, 2]])\n",
    "\n",
    "# Create another tensor B\n",
    "B = tf.constant([[7, 8],\n",
    "                 [4, 5]])\n",
    "\n",
    "print(V)\n",
    "B"
   ]
  },
  {
   "cell_type": "code",
   "execution_count": 4,
   "id": "3bc85f1a",
   "metadata": {},
   "outputs": [
    {
     "data": {
      "text/plain": [
       "<tf.Tensor: shape=(2, 4), dtype=int32, numpy=\n",
       "array([[4, 3, 7, 8],\n",
       "       [6, 1, 4, 5]])>"
      ]
     },
     "execution_count": 4,
     "metadata": {},
     "output_type": "execute_result"
    }
   ],
   "source": [
    "# Concatenate columns\n",
    "AB_concatenated = tf.concat(values=[A, B], axis=1)\n",
    "AB_concatenated"
   ]
  },
  {
   "cell_type": "code",
   "execution_count": 5,
   "id": "05c91eea",
   "metadata": {},
   "outputs": [
    {
     "data": {
      "text/plain": [
       "<tf.Tensor: shape=(4, 2), dtype=int32, numpy=\n",
       "array([[4, 3],\n",
       "       [6, 1],\n",
       "       [7, 8],\n",
       "       [4, 5]])>"
      ]
     },
     "execution_count": 5,
     "metadata": {},
     "output_type": "execute_result"
    }
   ],
   "source": [
    "# Concatenate rows\n",
    "AB_concatenated = tf.concat(values=[A, B], axis=0)\n",
    "AB_concatenated"
   ]
  },
  {
   "cell_type": "code",
   "execution_count": 6,
   "id": "6db9de5e",
   "metadata": {},
   "outputs": [
    {
     "data": {
      "text/plain": [
       "<tf.Tensor: shape=(3, 4), dtype=float32, numpy=\n",
       "array([[0.39223146, 0.97230434, 0.8170537 , 0.6977552 ],\n",
       "       [0.9846246 , 0.22668004, 0.71496   , 0.9319242 ],\n",
       "       [0.48455083, 0.44268644, 0.1193794 , 0.21394587]], dtype=float32)>"
      ]
     },
     "execution_count": 6,
     "metadata": {},
     "output_type": "execute_result"
    }
   ],
   "source": [
    "tensor_z = tf.zeros(shape=[3,4], dtype=tf.float32)\n",
    "tensor_o = tf.ones(shape=[3,4], dtype=tf.float32)\n",
    "tensor_r = tf.random.uniform(shape=[3,4], dtype=tf.float32)\n",
    "tensor_r"
   ]
  },
  {
   "cell_type": "code",
   "execution_count": 7,
   "id": "fd759631",
   "metadata": {},
   "outputs": [
    {
     "data": {
      "text/plain": [
       "<tf.Tensor: shape=(4, 3), dtype=float32, numpy=\n",
       "array([[0.39223146, 0.97230434, 0.8170537 ],\n",
       "       [0.6977552 , 0.9846246 , 0.22668004],\n",
       "       [0.71496   , 0.9319242 , 0.48455083],\n",
       "       [0.44268644, 0.1193794 , 0.21394587]], dtype=float32)>"
      ]
     },
     "execution_count": 7,
     "metadata": {},
     "output_type": "execute_result"
    }
   ],
   "source": [
    "reshaped_tensor = tf.reshape(tensor = tensor_r,\n",
    "                             shape = [4, 3])\n",
    "reshaped_tensor"
   ]
  },
  {
   "cell_type": "code",
   "execution_count": 8,
   "id": "e2c7bed4",
   "metadata": {},
   "outputs": [
    {
     "name": "stdout",
     "output_type": "stream",
     "text": [
      "tf.Tensor(\n",
      "[[4.5 4.2]\n",
      " [7.5 3.6]\n",
      " [2.7 9.4]\n",
      " [6.7 8.3]], shape=(4, 2), dtype=float32)\n",
      "tf.Tensor(\n",
      "[[4 4]\n",
      " [7 3]\n",
      " [2 9]\n",
      " [6 8]], shape=(4, 2), dtype=int32)\n"
     ]
    }
   ],
   "source": [
    "# Typecast a tensor\n",
    "tensor = tf.constant([[4.5, 4.2],\n",
    "                      [7.5, 3.6],\n",
    "                      [2.7, 9.4],\n",
    "                      [6.7, 8.3]],\n",
    "                      dtype=tf.float32)\n",
    "tensor_as_int = tf.cast(tensor, tf.int32)\n",
    "print(tensor)\n",
    "print(tensor_as_int)"
   ]
  },
  {
   "cell_type": "code",
   "execution_count": 9,
   "id": "65078c05",
   "metadata": {},
   "outputs": [
    {
     "data": {
      "text/plain": [
       "<tf.Tensor: shape=(2, 4), dtype=int32, numpy=\n",
       "array([[4, 7, 2, 6],\n",
       "       [4, 3, 9, 8]])>"
      ]
     },
     "execution_count": 9,
     "metadata": {},
     "output_type": "execute_result"
    }
   ],
   "source": [
    "a = tf.transpose(tensor_as_int)\n",
    "a"
   ]
  },
  {
   "cell_type": "code",
   "execution_count": 10,
   "id": "5a1c8688",
   "metadata": {},
   "outputs": [
    {
     "data": {
      "text/plain": [
       "<tf.Tensor: shape=(2, 1), dtype=int32, numpy=\n",
       "array([[36],\n",
       "       [30]])>"
      ]
     },
     "execution_count": 10,
     "metadata": {},
     "output_type": "execute_result"
    }
   ],
   "source": [
    "# Matrix multiplication of tensors\n",
    "A = tf.constant([[5, 8],\n",
    "                 [3, 9]])\n",
    "\n",
    "# Some vecotr v\n",
    "v = tf.constant([[4],\n",
    "                 [2]])\n",
    "\n",
    "Av = tf.matmul(A,v)\n",
    "Av"
   ]
  },
  {
   "cell_type": "code",
   "execution_count": 11,
   "id": "e92c4f4a",
   "metadata": {},
   "outputs": [
    {
     "data": {
      "text/plain": [
       "<tf.Tensor: shape=(2, 2), dtype=int32, numpy=\n",
       "array([[20, 32],\n",
       "       [ 6, 18]])>"
      ]
     },
     "execution_count": 11,
     "metadata": {},
     "output_type": "execute_result"
    }
   ],
   "source": [
    "# Element-wise multiplication\n",
    "Av = tf.multiply(A,v)\n",
    "Av"
   ]
  },
  {
   "cell_type": "code",
   "execution_count": 12,
   "id": "53f60859",
   "metadata": {},
   "outputs": [
    {
     "name": "stdout",
     "output_type": "stream",
     "text": [
      "rows: 3 columns: 2\n"
     ]
    },
    {
     "data": {
      "text/plain": [
       "<tf.Tensor: shape=(3, 2), dtype=int32, numpy=\n",
       "array([[1, 0],\n",
       "       [0, 1],\n",
       "       [0, 0]])>"
      ]
     },
     "execution_count": 12,
     "metadata": {},
     "output_type": "execute_result"
    }
   ],
   "source": [
    "# Creating an identity matrix\n",
    "\n",
    "A = tf.constant([[4, 9],\n",
    "                 [5, 6],\n",
    "                 [1, 8]])\n",
    "rows, columns = A.shape\n",
    "print('rows:', rows, 'columns:', columns)\n",
    "\n",
    "# Making identity matrix\n",
    "A_identity = tf.eye(num_rows = rows,\n",
    "                    num_columns = columns,\n",
    "                    dtype = tf.int32)\n",
    "A_identity"
   ]
  },
  {
   "cell_type": "code",
   "execution_count": 19,
   "id": "0ca99768",
   "metadata": {},
   "outputs": [
    {
     "ename": "IndexError",
     "evalue": "tuple index out of range",
     "output_type": "error",
     "traceback": [
      "\u001b[1;31m---------------------------------------------------------------------------\u001b[0m",
      "\u001b[1;31mIndexError\u001b[0m                                Traceback (most recent call last)",
      "Input \u001b[1;32mIn [19]\u001b[0m, in \u001b[0;36m<cell line: 1>\u001b[1;34m()\u001b[0m\n\u001b[1;32m----> 1\u001b[0m (\u001b[43mtensor\u001b[49m\u001b[38;5;241;43m.\u001b[39;49m\u001b[43mshape\u001b[49m\u001b[43m[\u001b[49m\u001b[38;5;241;43m2\u001b[39;49m\u001b[43m]\u001b[49m, \u001b[38;5;241m1\u001b[39m, \u001b[38;5;241m1\u001b[39m, \u001b[38;5;241m1\u001b[39m)\n",
      "File \u001b[1;32mc:\\python39\\lib\\site-packages\\tensorflow\\python\\framework\\tensor_shape.py:909\u001b[0m, in \u001b[0;36mTensorShape.__getitem__\u001b[1;34m(self, key)\u001b[0m\n\u001b[0;32m    907\u001b[0m \u001b[38;5;28;01melse\u001b[39;00m:\n\u001b[0;32m    908\u001b[0m   \u001b[38;5;28;01mif\u001b[39;00m \u001b[38;5;28mself\u001b[39m\u001b[38;5;241m.\u001b[39m_v2_behavior:\n\u001b[1;32m--> 909\u001b[0m     \u001b[38;5;28;01mreturn\u001b[39;00m \u001b[38;5;28;43mself\u001b[39;49m\u001b[38;5;241;43m.\u001b[39;49m\u001b[43m_dims\u001b[49m\u001b[43m[\u001b[49m\u001b[43mkey\u001b[49m\u001b[43m]\u001b[49m\n\u001b[0;32m    910\u001b[0m   \u001b[38;5;28;01melse\u001b[39;00m:\n\u001b[0;32m    911\u001b[0m     \u001b[38;5;28;01mreturn\u001b[39;00m \u001b[38;5;28mself\u001b[39m\u001b[38;5;241m.\u001b[39mdims[key]\n",
      "\u001b[1;31mIndexError\u001b[0m: tuple index out of range"
     ]
    }
   ],
   "source": []
  },
  {
   "cell_type": "code",
   "execution_count": 16,
   "id": "bf7fca5c",
   "metadata": {},
   "outputs": [
    {
     "data": {
      "text/plain": [
       "<tf.Tensor: shape=(4, 2), dtype=float32, numpy=\n",
       "array([[4.5, 4.2],\n",
       "       [7.5, 3.6],\n",
       "       [2.7, 9.4],\n",
       "       [6.7, 8.3]], dtype=float32)>"
      ]
     },
     "execution_count": 16,
     "metadata": {},
     "output_type": "execute_result"
    }
   ],
   "source": [
    "tensor"
   ]
  },
  {
   "cell_type": "code",
   "execution_count": null,
   "id": "40fcf2c6",
   "metadata": {},
   "outputs": [],
   "source": []
  }
 ],
 "metadata": {
  "kernelspec": {
   "display_name": "Python 3 (ipykernel)",
   "language": "python",
   "name": "python3"
  },
  "language_info": {
   "codemirror_mode": {
    "name": "ipython",
    "version": 3
   },
   "file_extension": ".py",
   "mimetype": "text/x-python",
   "name": "python",
   "nbconvert_exporter": "python",
   "pygments_lexer": "ipython3",
   "version": "3.9.2"
  }
 },
 "nbformat": 4,
 "nbformat_minor": 5
}
